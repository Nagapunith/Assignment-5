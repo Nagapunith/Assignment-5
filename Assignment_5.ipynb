{
  "nbformat": 4,
  "nbformat_minor": 0,
  "metadata": {
    "colab": {
      "name": "Assignment 5",
      "provenance": []
    },
    "kernelspec": {
      "name": "python3",
      "display_name": "Python 3"
    }
  },
  "cells": [
    {
      "cell_type": "code",
      "metadata": {
        "id": "buO05WpfiNjs",
        "colab_type": "code",
        "colab": {
          "base_uri": "https://localhost:8080/",
          "height": 50
        },
        "outputId": "5dee4c05-64a3-4436-8e46-f8b9555fdfc2"
      },
      "source": [
        "import math\n",
        "r=float(input(\"Enter the radius\"))\n",
        "area=math.pi*r*r\n",
        "print(area,\"The area is\")"
      ],
      "execution_count": 2,
      "outputs": [
        {
          "output_type": "stream",
          "text": [
            "Enter the radius6.8\n",
            "145.26724430199204 The area is\n"
          ],
          "name": "stdout"
        }
      ]
    },
    {
      "cell_type": "code",
      "metadata": {
        "id": "FMvAznnujdoX",
        "colab_type": "code",
        "colab": {
          "base_uri": "https://localhost:8080/",
          "height": 67
        },
        "outputId": "04a778c2-33de-42df-db52-388460d50654"
      },
      "source": [
        "from math import tan, pi\n",
        "n_sides = int(input(\"Input number of sides: \"))\n",
        "s_length = float(input(\"Input the length of a side: \"))\n",
        "p_area = n_sides * (s_length ** 2) / (4 * tan(pi / n_sides))\n",
        "print(\"The area of the polygon is: \",p_area)\n"
      ],
      "execution_count": 6,
      "outputs": [
        {
          "output_type": "stream",
          "text": [
            "Input number of sides: 5\n",
            "Input the length of a side: 25\n",
            "The area of the polygon is:  1075.2983753681044\n"
          ],
          "name": "stdout"
        }
      ]
    },
    {
      "cell_type": "code",
      "metadata": {
        "id": "NEusMGRgkWSd",
        "colab_type": "code",
        "colab": {
          "base_uri": "https://localhost:8080/",
          "height": 34
        },
        "outputId": "f4069636-5ffe-4b32-e46f-443ef5da2e6f"
      },
      "source": [
        "import random\n",
        "\n",
        "print(random.randint(1,100))"
      ],
      "execution_count": 7,
      "outputs": [
        {
          "output_type": "stream",
          "text": [
            "27\n"
          ],
          "name": "stdout"
        }
      ]
    },
    {
      "cell_type": "code",
      "metadata": {
        "id": "fpGLh3PYl41O",
        "colab_type": "code",
        "colab": {
          "base_uri": "https://localhost:8080/",
          "height": 134
        },
        "outputId": "099dc79d-c66a-44c2-a830-854f08b0ab16"
      },
      "source": [
        "import math\n",
        "print(\"sin 60\",math.sin(60))\n",
        "print(\"cos(pi)\",math.cos(pi))\n",
        "print(\"tap 90\",math.tan(90))\n",
        "print(\"5^8\",5**8)\n",
        "print(\"squrt 400\",math.sqrt(400))\n",
        "print(\"Floor\",math.floor(23.56))\n",
        "print(\"ceiling\",math.ceil(23.56))"
      ],
      "execution_count": 27,
      "outputs": [
        {
          "output_type": "stream",
          "text": [
            "sin 60 -0.3048106211022167\n",
            "cos(pi) -1.0\n",
            "tap 90 -1.995200412208242\n",
            "5^8 390625\n",
            "squrt 400 20.0\n",
            "Floor 23\n",
            "ceiling 24\n"
          ],
          "name": "stdout"
        }
      ]
    },
    {
      "cell_type": "code",
      "metadata": {
        "id": "oFjW9Q_CmTOG",
        "colab_type": "code",
        "colab": {}
      },
      "source": [
        ""
      ],
      "execution_count": null,
      "outputs": []
    }
  ]
}